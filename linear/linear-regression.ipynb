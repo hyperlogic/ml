{
 "cells": [
  {
   "cell_type": "code",
   "execution_count": 17,
   "metadata": {},
   "outputs": [],
   "source": [
    "import numpy as np\n",
    "import matplotlib.pyplot as plt\n",
    "\n",
    "# function that represents a line  mx + b.\n",
    "# with a random offset from a normal distribution\n",
    "def line(x, m=1, b=0, noise=0):\n",
    "    return m * x + b + (noise * np.random.rand(1)[0])\n",
    "\n",
    "# nieve linear regression, just apply the formula\n",
    "def my_linear_regression(domain, range):\n",
    "    # setup X matrix\n",
    "    X = np.ones(shape=(len(domain), 2))\n",
    "    for i, x in enumerate(domain):\n",
    "        X[i,0] = x\n",
    "\n",
    "    # setup y vector\n",
    "    y = np.array(range)\n",
    "\n",
    "    # calculate weights for the linear regression line\n",
    "    weights = np.linalg.inv(X.T.dot(X)).dot(X.T).dot(y)\n",
    "\n",
    "    return (weights[0], weights[1])"
   ]
  },
  {
   "cell_type": "code",
   "execution_count": 23,
   "metadata": {},
   "outputs": [
    {
     "data": {
      "text/plain": [
       "[]"
      ]
     },
     "execution_count": 23,
     "metadata": {},
     "output_type": "execute_result"
    },
    {
     "data": {
      "image/png": "[encoded data removed]",
      "text/plain": [
       "<Figure size 640x480 with 1 Axes>"
      ]
     },
     "metadata": {},
     "output_type": "display_data"
    }
   ],
   "source": [
    "\n",
    "# generate some data\n",
    "domain = np.linspace(0, 5, num=25)\n",
    "range = [line(x, m=1, noise=3) for x in domain]\n",
    "\n",
    "# scatter plot\n",
    "plt.scatter(domain, range)\n",
    "\n",
    "# plot the linear regression line in red\n",
    "m, b = my_linear_regression(domain, range)\n",
    "plt.plot(domain, m*domain+b, color='red')\n",
    "\n",
    "# now use a green line to show the linear regression line from numpy (with a tiny offset)\n",
    "m, b = np.polyfit(domain, range, 1)\n",
    "plt.plot(domain, m*domain+b+0.1, color='green')\n",
    "\n",
    "plt.axis('scaled')\n",
    "\n",
    "plt.plot()"
   ]
  },
  {
   "cell_type": "code",
   "execution_count": 6,
   "metadata": {},
   "outputs": [
    {
     "data": {
      "text/plain": [
       "array([0.        , 0.20833333, 0.41666667, 0.625     , 0.83333333,\n",
       "       1.04166667, 1.25      , 1.45833333, 1.66666667, 1.875     ,\n",
       "       2.08333333, 2.29166667, 2.5       , 2.70833333, 2.91666667,\n",
       "       3.125     , 3.33333333, 3.54166667, 3.75      , 3.95833333,\n",
       "       4.16666667, 4.375     , 4.58333333, 4.79166667, 5.        ])"
      ]
     },
     "execution_count": 6,
     "metadata": {},
     "output_type": "execute_result"
    }
   ],
   "source": [
    "domain"
   ]
  },
  {
   "cell_type": "code",
   "execution_count": null,
   "metadata": {},
   "outputs": [],
   "source": []
  }
 ],
 "metadata": {
  "kernelspec": {
   "display_name": "Python 3 (ipykernel)",
   "language": "python",
   "name": "python3"
  },
  "language_info": {
   "codemirror_mode": {
    "name": "ipython",
    "version": 3
   },
   "file_extension": ".py",
   "mimetype": "text/x-python",
   "name": "python",
   "nbconvert_exporter": "python",
   "pygments_lexer": "ipython3",
   "version": "3.9.7"
  },
  "orig_nbformat": 4
 },
 "nbformat": 4,
 "nbformat_minor": 2
}
